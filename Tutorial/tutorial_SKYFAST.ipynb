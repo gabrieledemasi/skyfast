{
 "cells": [
  {
   "attachments": {},
   "cell_type": "markdown",
   "metadata": {},
   "source": [
    "## SKYFAST: Tutorial\n",
    "\n",
    "This tutorial demonstrates how to use SKYFAST (Demasi et al., in preparation), a Python code designed for the rapid localization of gravitational wave hosts. \n",
    "\n",
    "SKYFAST takes posterior samples produced by a parameter estimation pipeline as input and uses them to reconstruct an analytic joint posterior for right ascension, declination, luminosity distance, and, optionally, the inclination angle of the GW event. The posterior reconstruction is performed using a Dirichlet Process Gaussian Mixture Model (DPGMM), a Bayesian non-parametric method. \n",
    "\n",
    "SKYFAST is based on the DPGMM implementation in FIGARO by Rinaldi & Del Pozzo, 2022 (https://arxiv.org/abs/2205.07252).\n",
    "\n",
    "\n"
   ]
  },
  {
   "attachments": {},
   "cell_type": "markdown",
   "metadata": {},
   "source": [
    "### Installation\n",
    "\n",
    "We recomment to create a conda environment with Python 3.11:\n",
    "\n",
    "`conda create --name skyfast_env python==3.11`.\n",
    "\n",
    "\n",
    "Then activate it:\n",
    "\n",
    "`conda activate skyfast_env`\n",
    "\n",
    "\n",
    "Lastly, download SKYFAST from git and install it:\n",
    "\n",
    "`git clone git@github.com:gabrieledemasi/skyfast.git`\n",
    "\n",
    "`cd skyfast`\n",
    "\n",
    "`pip install .`\n",
    "\n",
    "\n"
   ]
  },
  {
   "attachments": {},
   "cell_type": "markdown",
   "metadata": {},
   "source": [
    "### Load the GLADE+ galaxy catalog\n",
    "\n",
    "At the moment, SKYFAST looks for the most probable galaxy hosts within the GLADE+ catalog (Dálya et al. 2022, https://arxiv.org/abs/2110.06184). However, the pipeline can be easily adapted to any catalog.\n",
    "\n",
    "Download the \"GLADE+.txt' file from http://glade.elte.hu/ (should be around 6 GB)\n",
    " \n",
    "Preprocess it running \n",
    "\n",
    "`make_glade -i \"/path_to_the_glade_file_position/GLADE+.txt\"` \n",
    "\n",
    "This command creates in the same folder a lighter glade+.hdf5 file, that can be passed to SKYFAST."
   ]
  },
  {
   "cell_type": "code",
   "execution_count": null,
   "metadata": {},
   "outputs": [],
   "source": [
    "import numpy as np\n",
    "import matplotlib.pyplot as plt \n",
    "from skyfast.skyfast import skyfast\n",
    "from figaro.utils import get_priors\n",
    "import h5py\n",
    "from tqdm import tqdm\n",
    "\n",
    "glade_file = '/path_to_the_glade_file_position/glade+.hdf5' #raplace this with the correct path!!"
   ]
  },
  {
   "cell_type": "markdown",
   "metadata": {},
   "source": [
    "### Load the posterior samples\n",
    "\n",
    "In this tutorial, we take GW170817 as a working example. We will use the posterior samples from Finstad et al. 2018 (https://arxiv.org/abs/1804.04179), publicly available at https://github.com/sugwg/gw170817-inclination-angle. \n",
    "\n",
    "In principle, SKYFAST can use the posterior samples produced by any PE pipeline, as long as they are arranged as an array with as many rows as the number of samples and either 3 or 4 columns, depending on whether we are including the inclination angle or not. Angles must be expressed in radians, luminosity distance in Mpc.\n"
   ]
  },
  {
   "cell_type": "code",
   "execution_count": null,
   "metadata": {},
   "outputs": [],
   "source": [
    "#load samples from the .hdf5 file\n",
    "with h5py.File('data/gw_only_posteriors.hdf', 'r') as file:\n",
    "    ra = np.array(file['samples']['ra'])\n",
    "    dec = np.array(file['samples']['dec'])\n",
    "    d_L = np.array(file['samples']['distance'])\n",
    "    theta_jn = np.array(file['samples']['inclination']) \n",
    "\n",
    "#arrange them in a format suitable for SKYFAST \n",
    "samples = np.array([ra, dec, d_L, theta_jn]).T\n",
    "\n",
    "#The file contains a lot of samples, so we take only one third of them for the sake of time\n",
    "samples = samples[::3]\n",
    "np.random.shuffle(samples)\n"
   ]
  },
  {
   "cell_type": "markdown",
   "metadata": {},
   "source": [
    "### Priors for the DPGMM\n",
    "\n",
    "We will use of some of the available samples (we found that 200 is a good number) to set reasonable priors for the mean and variance of each Gaussian component in the mixture. We use the figaro.utils method `get_priors`. \n",
    "\n",
    "We have to make sure that we define a parameter space that contains all the samples that we are going to pass to SKYFAST. The bounds for the angles is always well defined, while we have to be more careful for the luminosity distance. We found that a good solution is to set the luminosity distance bound to 1.5 times the maximum distance of the 200 samples that we pass to `get_priors`."
   ]
  },
  {
   "cell_type": "code",
   "execution_count": null,
   "metadata": {},
   "outputs": [],
   "source": [
    "max_dist = np.max(np.array(samples[:200])[:,2])*1.5\n",
    "bounds = np.array([[0., 2*np.pi], [-np.pi/2, np.pi/2], [0., max_dist], [0, np.pi]])\n",
    "prior_pars = get_priors(bounds = bounds, samples = samples[:200], probit = True, scale=1)"
   ]
  },
  {
   "attachments": {},
   "cell_type": "markdown",
   "metadata": {},
   "source": [
    "### Initialize SKYFAST \n",
    "\n",
    "We are now ready to initialize an instance of SKYFAST, which we will use to reconstruct the position and inclination angle posteriors for GW170817. It should take only a bunch of seconds. "
   ]
  },
  {
   "cell_type": "code",
   "execution_count": null,
   "metadata": {},
   "outputs": [],
   "source": [
    "dens = skyfast(max_dist,                                   #maximum distance for the grid\n",
    "                glade_file=glade_file,                     #path to glade+.hdf5 file created before\n",
    "                prior_pars= prior_pars,                    #priors for the DPGMM\n",
    "                n_gridpoints=[800, 400, 100],              #points in the 3D coordinate grid (ra, dec, dL)\n",
    "                inclination = True,                        #we want to include the inclination angle in the reconstruction\n",
    "                true_host=[3.44613, -0.40812, 41.00982],   #position of NGC 4993, the true host of GW170817\n",
    "                true_inclination = [2.5831],               #GW170817 inclunation angle, as reported in Finstad+18     \n",
    "                entropy = True,                            #we compute the information entropy each time a sample is added to the mixture\n",
    "                out_name = 'gw170817_test0',               #name of the output from the current analysis\n",
    "                out_folder= './results_tutorial',          #path to the output folder\n",
    "                theta_condition = True                     #we want to compute the inclination angle posterior conditioned to the position of each potential galaxy host  \n",
    "                )"
   ]
  },
  {
   "attachments": {},
   "cell_type": "markdown",
   "metadata": {},
   "source": [
    "### Posterior reconstruction \n",
    "\n",
    "Now, we use `intermediate_skymap` to pass the samples one by one to SKYFAST.\n",
    "\n",
    "Since we set `entropy = True`, SKYFAST computes the information entropy of the reconstructed posterior each time a sample is added to the DPGMM mixture.\n",
    "\n",
    "When the information entropy reaches a plateau, adding further samples does not provide much additional information. This convergence criterion is usually met using a only fraction of the samples produced by the PE, resulting in considerable time savings when SKYFAST is run online alongside the PE pipeline.\n",
    "\n",
    "After convergence is reached, the intermediate posterior reconstruction, along with the related skymap, volume map, and list of the most probable galaxy hosts, are released and saved in the output directory, marked as 'intermediate'.\n",
    "\n",
    "It is possible to visualize the plots using show = True; otherwise, they will be saved without displaying."
   ]
  },
  {
   "cell_type": "code",
   "execution_count": null,
   "metadata": {},
   "outputs": [],
   "source": [
    "for i in tqdm(range(len(samples))):\n",
    "        dens.intermediate_skymap(samples[i], show = True)"
   ]
  },
  {
   "attachments": {},
   "cell_type": "markdown",
   "metadata": {},
   "source": [
    "Now that also the reconstruction using all the samples is finished, we can plot the entropy as a function of the number of samples in the misture. \n",
    "\n",
    "We can also produce a corner plot of the posterior reconstructed posterior, its related skymap and volume map, to be compared with the intermediate ones. \n",
    "\n",
    "As a final step, we save a log file with all the key information of the current SKYFAST run.  "
   ]
  },
  {
   "cell_type": "code",
   "execution_count": null,
   "metadata": {},
   "outputs": [],
   "source": [
    "# Entropy plot\n",
    "dens.make_entropy_plot(show = True) \n",
    "\n",
    "# Reconstructed posterior, skymap and volume map obtained with all the PE samples\n",
    "dens.save_density(final_map = True)\n",
    "dens.plot_samples(samples, final_map = True, show = True)\n",
    "dens.make_skymap(final_map = True, show = True)\n",
    "dens.make_volume_map(final_map = True,  show = True)\n",
    "dens.initialise()\n",
    "# Save log file\n",
    "dens.save_log() "
   ]
  },
  {
   "cell_type": "markdown",
   "metadata": {},
   "source": [
    "## Recap of SKYFAST outputs\n",
    "\n",
    "List of created directories and outputs. If `entropy = True`, the outputs are produced both for the intermediate and the final posterior reconsturction.\n",
    "\n",
    "* CORNER: comparison of the original PE samples with samples from the reconstructed posterior\n",
    "* DENSITY: file .json with the gaussian mixture\n",
    "* ENTROPY: entropy plot\n",
    "* HOSTS: list of galaxies within the 90% volume with or without the information about the inclination angle posterior conditioned to the position of each galaxies. \n",
    "* LOG: log file \n",
    "* SKYMAPS: skymap with credible regions and skymap with galaxies in the 90% credible volume\n",
    "* VOLUME: volume map\n"
   ]
  }
 ],
 "metadata": {
  "kernelspec": {
   "display_name": "Python 3",
   "language": "python",
   "name": "python3"
  },
  "language_info": {
   "codemirror_mode": {
    "name": "ipython",
    "version": 3
   },
   "file_extension": ".py",
   "mimetype": "text/x-python",
   "name": "python",
   "nbconvert_exporter": "python",
   "pygments_lexer": "ipython3",
   "version": "3.9.19"
  },
  "orig_nbformat": 4
 },
 "nbformat": 4,
 "nbformat_minor": 2
}
