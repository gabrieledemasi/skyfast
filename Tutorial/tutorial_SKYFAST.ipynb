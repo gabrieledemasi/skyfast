{
 "cells": [
  {
   "attachments": {},
   "cell_type": "markdown",
   "metadata": {},
   "source": [
    "# SKYFAST: Tutorial\n",
    "\n",
    "This tutorial demonstrates how to use SKYFAST (Demasi et al., in preparation), a Python code designed for the rapid localization of gravitational wave hosts. \n",
    "\n",
    "SKYFAST takes posterior samples produced by a parameter estimation pipeline as input and uses them to reconstruct an analytic joint posterior for right ascension ($\\alpha$), declination ($\\delta$), luminosity distance ($d_L$), and, optionally, the inclination angle ($\\theta_{jn}$) of the GW event. \n",
    "\n",
    "SKYFAST is based on FIGARO ([Rinaldi & Del Pozzo (2024)](https://joss.theoj.org/papers/10.21105/joss.06589)), a [publicly available](https://github.com/sterinaldi/FIGARO.git) inference code designed to estimate multivariate probability densities given samples from an unknown distribution using a DDirichlet Process Gaussian Mixture Model (DPGMM) as non-parameteric model. \n"
   ]
  },
  {
   "attachments": {},
   "cell_type": "markdown",
   "metadata": {},
   "source": [
    "## Installation\n",
    "\n",
    "We recomment to create a conda environment with Python 3.11:\n",
    "\n",
    "`conda create --name skyfast_env python==3.11`.\n",
    "\n",
    "\n",
    "Then activate it:\n",
    "\n",
    "`conda activate skyfast_env`\n",
    "\n",
    "\n",
    "Lastly, download SKYFAST from git and install it:\n",
    "\n",
    "`git clone git@github.com:gabrieledemasi/skyfast.git`\n",
    "\n",
    "`cd skyfast`\n",
    "\n",
    "`pip install .`\n",
    "\n",
    "\n"
   ]
  },
  {
   "cell_type": "markdown",
   "metadata": {},
   "source": [
    "\n",
    "## Using SKYFAST to rank the most probable galaxy hosts of a GW event\n",
    "\n",
    "In the first part of this tutorial, we show one of the main functionalities of SKYFAST, which is galaxy host ranking. \n",
    "\n",
    "As a working example, we look for the most probable galaxy host for the event GW170817 within the GLADE+ galaxy catalog."
   ]
  },
  {
   "attachments": {},
   "cell_type": "markdown",
   "metadata": {},
   "source": [
    "### Step 1: load the GLADE+ galaxy catalog\n",
    "\n",
    "In this example, we use SKYFAST to find the most probable galaxy hosts within the GLADE+ catalog ([Dálya et al. 2022](https://arxiv.org/abs/2110.06184)). However, the pipeline can be easily adapted to any catalog.\n",
    "\n",
    "Download the \"GLADE+.txt' file from http://glade.elte.hu/ (should be around 6 GB)\n",
    " \n",
    "Preprocess it by running: \n",
    "\n",
    "`make_glade -i \"/path_to_glade_file_position/GLADE+.txt\"` \n",
    "\n",
    "This command creates in the same folder a lighter glade+.hdf5 file, that can be passed to SKYFAST, in the same directory."
   ]
  },
  {
   "cell_type": "code",
   "execution_count": null,
   "metadata": {},
   "outputs": [],
   "source": [
    "import numpy as np\n",
    "import matplotlib.pyplot as plt \n",
    "from skyfast.skyfast import skyfast\n",
    "from figaro.utils import get_priors\n",
    "import h5py\n",
    "from tqdm import tqdm\n",
    "\n",
    "glade_file = '/path_to_glade_file_position/glade+.hdf5' #raplace this with the correct path!!"
   ]
  },
  {
   "cell_type": "markdown",
   "metadata": {},
   "source": [
    "### Step 2: load the posterior samples\n",
    "\n",
    "We will use the posterior samples for GW170817 from Finstad et al. 2018 (https://arxiv.org/abs/1804.04179), publicly available [here](https://github.com/sugwg/gw170817-inclination-angle). \n",
    "\n",
    "In principle, SKYFAST can use the posterior samples produced by any PE pipeline, as long as they are arranged as an array with as many rows as the number of samples and either 3 or 4 columns, depending on whether we are including the inclination angle or not. Angles must be expressed in radians, luminosity distance in Mpc."
   ]
  },
  {
   "cell_type": "code",
   "execution_count": null,
   "metadata": {},
   "outputs": [],
   "source": [
    "#load samples from the .hdf5 file\n",
    "with h5py.File('data/gw_only_posteriors.hdf', 'r') as file:\n",
    "    ra = np.array(file['samples']['ra'])\n",
    "    dec = np.array(file['samples']['dec'])\n",
    "    d_L = np.array(file['samples']['distance'])\n",
    "    theta_jn = np.array(file['samples']['inclination']) \n",
    "\n",
    "#arrange them in a format suitable for SKYFAST \n",
    "samples = np.array([ra, dec, d_L, theta_jn]).T\n",
    "\n",
    "#The file contains a lot of samples, so we take only one third of them for the sake of time\n",
    "samples = samples[::3]\n",
    "np.random.shuffle(samples)\n"
   ]
  },
  {
   "cell_type": "markdown",
   "metadata": {},
   "source": [
    "### Step 3: compute priors for the DPGMM\n",
    "\n",
    "We use the samples to set reasonable priors for the mean and variance of each Gaussian component in the mixture with the figaro.utils method `get_priors`. "
   ]
  },
  {
   "cell_type": "code",
   "execution_count": null,
   "metadata": {},
   "outputs": [],
   "source": [
    "max_dist = np.max(np.array(samples)[:,2])+1\n",
    "bounds = np.array([[0., 2*np.pi], [-np.pi/2, np.pi/2], [0., max_dist], [0, np.pi]])\n",
    "prior_pars = get_priors(bounds = bounds, samples = samples, probit = True)"
   ]
  },
  {
   "attachments": {},
   "cell_type": "markdown",
   "metadata": {},
   "source": [
    "### Step 4: Initialize SKYFAST \n",
    "\n",
    "We are now ready to initialize an instance of SKYFAST, which we will use to reconstruct the position and inclination angle posteriors for GW170817. It should take only a bunch of seconds. "
   ]
  },
  {
   "cell_type": "code",
   "execution_count": null,
   "metadata": {},
   "outputs": [],
   "source": [
    "dens = skyfast(max_dist,                                   #maximum distance for the grid\n",
    "                glade_file=glade_file,                     #path to glade+.hdf5 file created before\n",
    "                prior_pars= prior_pars,                    #priors for the DPGMM\n",
    "                n_gridpoints=[800, 400, 100],              #points in the 3D coordinate grid (ra, dec, dL)\n",
    "                inclination = True,                        #we want to include the inclination angle in the reconstruction\n",
    "                true_host=[3.44613, -0.40812, 41.00982],   #position of NGC 4993, the true host of GW170817\n",
    "                true_inclination = [2.5831],               #GW170817 inclunation angle, as reported in Finstad+18     \n",
    "                out_name = 'gw170817_ranking_test',        #name of the output from the current analysis\n",
    "                out_folder= './results_tutorial',          #path to the output folder\n",
    "                theta_condition = True                     #we want to compute the inclination angle posterior conditioned to the position of each potential galaxy host  \n",
    "                )"
   ]
  },
  {
   "attachments": {},
   "cell_type": "markdown",
   "metadata": {},
   "source": [
    "### Step 5: posterior reconstruction \n",
    "\n",
    "Now, we pass the samples one by one to SKYFAST, which uses them to reconstruct an analytical joint posterior distribution for the parameters $\\{ \\alpha, \\delta, d_\\text{L}, \\theta_{jn} \\}$."
   ]
  },
  {
   "cell_type": "code",
   "execution_count": null,
   "metadata": {},
   "outputs": [],
   "source": [
    "# Pass samples one by one\n",
    "for i in tqdm(range(len(samples))):\n",
    "        dens.intermediate_skymap(samples[i])\n",
    "\n",
    "# Compute the posterior as a mixture of gaussians\n",
    "dens.density = dens.mix.build_mixture()        "
   ]
  },
  {
   "attachments": {},
   "cell_type": "markdown",
   "metadata": {},
   "source": [
    "### Step 6: save all the outputs\n",
    "\n",
    "After all the samples are processed, the posterior reconstruction, along with the related skymap, volume map, and list of the most probable galaxy hosts, are released and saved in the output directory, marked as 'final'. It is possible to visualize the plots using show = True; otherwise, they will be saved without displaying.\n",
    "\n",
    "We also save a log file with all the key information of the current SKYFAST run.  "
   ]
  },
  {
   "cell_type": "code",
   "execution_count": null,
   "metadata": {},
   "outputs": [],
   "source": [
    "# Save reconstructed posterior\n",
    "dens.save_density(final_map = True)\n",
    "\n",
    "# Corner plot\n",
    "dens.plot_samples(samples, final_map = True, show = True)\n",
    "\n",
    "# Skymap \n",
    "dens.make_skymap(final_map = True, show = True)\n",
    "\n",
    "# Volume map and ranked list of most probable galaxy hosts \n",
    "dens.make_volume_map(final_map = True,  show = True)\n",
    "\n",
    "# Log file\n",
    "dens.save_log() "
   ]
  },
  {
   "cell_type": "markdown",
   "metadata": {},
   "source": [
    "### Step 7: return to initial conditions \n",
    "\n",
    "It is good practice to initialize SKYFAST at the initial conditions at the end of each run; otherwise, some variables could remain stored and affect the results of the subsequent run. \n",
    "\n",
    "This is particularly important when using SKYFAST in parallel with a PE algorithm, where it is necessary to run SKYFAST repeatedly on the same event as new samples are produced."
   ]
  },
  {
   "cell_type": "code",
   "execution_count": null,
   "metadata": {},
   "outputs": [],
   "source": [
    "dens.initialise()"
   ]
  },
  {
   "cell_type": "markdown",
   "metadata": {},
   "source": [
    "## Using SKYFAST in parallel with a PE algorithm\n",
    "\n",
    "An important feature of SKYFAST is its ability to be used in parallel with a PE algorithm, provided that the posterior samples are released during the run (as is the case for most MCMC samplers, for examples). As we saw in the first part of the tutorial, the samples are passed one by one to SKYFAST. Therefore, it is possible to process the samples as soon as they are produced by the PE algorithm.\n",
    "\n",
    "If we set `entropy=True` at initialization, SKYFAST computes the information entropy of the reconstructed posterior each time a sample is added to the DPGMM mixture.\n",
    "\n",
    "When the information entropy reaches a plateau, adding further samples does not provide much additional information. This convergence criterion is usually met using only a fraction of the samples produced by the PE, resulting in considerable time savings.\n",
    "\n",
    "In the second part of this tutorial, we will demonstrate this functionality of SKYFAST using the same samples for GW170817. We will compute all the outputs (skymap, volume map, ranked list) for both the intermediate reconstruction, obtained soon after convergence is reached, and the final reconstruction, obtained using all the samples, which is essentially what we obtained in the first part of the tutorial. We will verify that the intermediate reconstruction is nearly as good as the final one."
   ]
  },
  {
   "cell_type": "markdown",
   "metadata": {},
   "source": [
    "### Step 1: compute priors for the DPGMM \n",
    "\n",
    "To mimick a realistic scenario, in which SKYFAST runs in parallel with a PE algorithm, we cannot use all the samples to set the priors for the DPGMM. We found that using the first 500 samples is a good solution.  \n",
    "\n",
    "We have to make sure that we define a parameter space that contains all the samples that we are going to pass to SKYFAST. The bounds for the angles is always well defined, while we have to be more careful for the luminosity distance. We found that a good solution is to set the luminosity distance bound to 1.5 times the maximum distance of the 500 samples that we pass to `get_priors`."
   ]
  },
  {
   "cell_type": "code",
   "execution_count": null,
   "metadata": {},
   "outputs": [],
   "source": [
    "np.random.shuffle(samples)\n",
    "max_dist = np.max(np.array(samples[:500])[:,2])*1.5\n",
    "bounds = np.array([[0., 2*np.pi], [-np.pi/2, np.pi/2], [0., max_dist], [0, np.pi]])\n",
    "prior_pars = get_priors(bounds = bounds, samples = samples[:500], probit = True, scale=1)"
   ]
  },
  {
   "cell_type": "markdown",
   "metadata": {},
   "source": [
    "### Step 2: initialise SKYFAST\n",
    "\n",
    "Same as before, but now we set `entropy=True`."
   ]
  },
  {
   "cell_type": "code",
   "execution_count": null,
   "metadata": {},
   "outputs": [],
   "source": [
    "dens = skyfast(max_dist,                                   \n",
    "                glade_file=glade_file,                     \n",
    "                prior_pars= prior_pars,                    \n",
    "                n_gridpoints=[800, 400, 100],              \n",
    "                inclination = True,                        \n",
    "                true_host=[3.44613, -0.40812, 41.00982],   \n",
    "                true_inclination = [2.5831],                   \n",
    "                out_name = 'gw170817_entropy_test',        \n",
    "                out_folder= './results_tutorial',          \n",
    "                theta_condition = True,       \n",
    "                entropy = True  #we compute the information entropy each time a sample is added to the mixture              \n",
    "                )"
   ]
  },
  {
   "cell_type": "markdown",
   "metadata": {},
   "source": [
    "### Step 3: intermediate reconstuction \n",
    "\n",
    "As before, we use `intermediate_skymap` to pass the samples one by one to SKYFAST.\n",
    "\n",
    "Since we set `entropy = True`, now SKYFAST computes the information entropy of the reconstructed posterior each time a sample is added to the DPGMM mixture.\n",
    "\n",
    "When the information entropy reaches a plateau, adding further samples does not provide much additional information. This convergence criterion is usually met using a only fraction of the samples produced by the PE, resulting in considerable time savings when SKYFAST is run online alongside the PE pipeline.\n",
    "\n",
    "After convergence is reached, the intermediate posterior reconstruction, along with the related skymap, volume map, and list of the most probable galaxy hosts, are released and saved in the output directory, marked as 'intermediate'."
   ]
  },
  {
   "cell_type": "code",
   "execution_count": null,
   "metadata": {},
   "outputs": [],
   "source": [
    "for i in tqdm(range(len(samples))):\n",
    "        dens.intermediate_skymap(samples[i], show = True)\n",
    "\n",
    "dens.density = dens.mix.build_mixture() "
   ]
  },
  {
   "cell_type": "markdown",
   "metadata": {},
   "source": [
    "### Step 4: entropy plots and comparison with final reconstruction \n",
    "\n",
    "Now that also the reconstruction using all the samples is finished, we can plot the entropy as a function of the number of samples in the mixture. \n",
    "\n",
    "We can also produce a corner plot of the posterior reconstructed posterior, its related skymap and volume map, to be compared with the intermediate ones. "
   ]
  },
  {
   "cell_type": "code",
   "execution_count": null,
   "metadata": {},
   "outputs": [],
   "source": [
    "# Entropy plot\n",
    "dens.make_entropy_plot(show = True) \n",
    "\n",
    "# Reconstructed posterior, skymap and volume map obtained with all the PE samples\n",
    "dens.density = dens.mix.build_mixture()\n",
    "dens.save_density(final_map = True)\n",
    "dens.plot_samples(samples, final_map = True, show = True)\n",
    "dens.make_skymap(final_map = True, show = True)\n",
    "dens.make_volume_map(final_map = True,  show = True)\n",
    "\n",
    "# Save log file\n",
    "dens.save_log() "
   ]
  },
  {
   "cell_type": "markdown",
   "metadata": {},
   "source": [
    "### Step 5: return to initial conditions"
   ]
  },
  {
   "cell_type": "code",
   "execution_count": null,
   "metadata": {},
   "outputs": [],
   "source": [
    "dens.initialise()"
   ]
  },
  {
   "cell_type": "markdown",
   "metadata": {},
   "source": [
    "## Recap of SKYFAST outputs\n",
    "\n",
    "List of created directories and outputs. If `entropy = True`, the outputs are produced both for the intermediate and the final posterior reconsturction.\n",
    "\n",
    "* CORNER: comparison of the original PE samples with samples from the reconstructed posterior\n",
    "* DENSITY: file .json with the gaussian mixture\n",
    "* ENTROPY: entropy plot\n",
    "* HOSTS: list of galaxies within the 90% volume with or without the information about the inclination angle posterior conditioned to the position of each galaxies. \n",
    "* LOG: log file \n",
    "* SKYMAPS: skymap with credible regions and skymap with galaxies in the 90% credible volume\n",
    "* VOLUME: volume map\n"
   ]
  }
 ],
 "metadata": {
  "kernelspec": {
   "display_name": "Python 3",
   "language": "python",
   "name": "python3"
  },
  "language_info": {
   "codemirror_mode": {
    "name": "ipython",
    "version": 3
   },
   "file_extension": ".py",
   "mimetype": "text/x-python",
   "name": "python",
   "nbconvert_exporter": "python",
   "pygments_lexer": "ipython3",
   "version": "3.9.19"
  },
  "orig_nbformat": 4
 },
 "nbformat": 4,
 "nbformat_minor": 2
}
