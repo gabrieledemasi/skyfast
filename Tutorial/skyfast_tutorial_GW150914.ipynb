{
 "cells": [
  {
   "attachments": {},
   "cell_type": "markdown",
   "metadata": {},
   "source": [
    "## SKYFAST: Tutorial\n",
    "##### This tutorial shows how to use SKYFAST, a Python code based on FIGARO (Rinaldi&Del Pozzo, 2022) for the rapid localization of gravitational wave hosts\n",
    "\n"
   ]
  },
  {
   "attachments": {},
   "cell_type": "markdown",
   "metadata": {},
   "source": [
    "### Installation\n",
    "\n",
    "Create a conda environment:\n",
    "\n",
    "`conda create --name skyfast_env python==3.9`.\n",
    "\n",
    "Then activate it:\n",
    "`conda activate skyfast_env`\n",
    "\n",
    "Then download the package from git:\n",
    "\n",
    "`git clone https://github.com/gabrieledemasi/skyfast.git`\n",
    "\n",
    "\n",
    "Move in the downloaded directory and install the package:\n",
    "\n",
    "` python setup.py install`\n",
    "\n",
    "\n"
   ]
  },
  {
   "cell_type": "code",
   "execution_count": null,
   "metadata": {},
   "outputs": [],
   "source": []
  },
  {
   "attachments": {},
   "cell_type": "markdown",
   "metadata": {},
   "source": [
    "load the Glade galaxy catalog\n",
    "* Download the 6Gb file from http://glade.elte.hu/;\n",
    "* \n",
    "* Preprocess it running `make_glade -i \"/path_to_the_file\"`: this create, in the same folder, a lighter hdf5 file, that can be passed to skyfast\n",
    "\n",
    "\n"
   ]
  },
  {
   "cell_type": "code",
   "execution_count": null,
   "metadata": {},
   "outputs": [],
   "source": [
    "glade_file = 'data/glade+.hdf5'"
   ]
  },
  {
   "cell_type": "code",
   "execution_count": null,
   "metadata": {},
   "outputs": [],
   "source": [
    "#import figaro\n",
    "import numpy as np\n",
    "from tqdm import tqdm\n",
    "from skyfast.skyfast import skyfast\n",
    "from skyfast.coordinates import celestial_to_cartesian\n"
   ]
  },
  {
   "attachments": {},
   "cell_type": "markdown",
   "metadata": {},
   "source": [
    "\n",
    "Now we load the parameter estimation samples of our preferred event: that is of course GW150914"
   ]
  },
  {
   "cell_type": "code",
   "execution_count": null,
   "metadata": {},
   "outputs": [],
   "source": [
    "from figaro.load import load_single_event\n",
    "samples, name = load_single_event('data/GW150914_volume.txt') "
   ]
  },
  {
   "cell_type": "code",
   "execution_count": null,
   "metadata": {},
   "outputs": [],
   "source": []
  },
  {
   "cell_type": "code",
   "execution_count": null,
   "metadata": {},
   "outputs": [],
   "source": []
  },
  {
   "attachments": {},
   "cell_type": "markdown",
   "metadata": {},
   "source": [
    "And finally we initialize a skyfast class:"
   ]
  },
  {
   "cell_type": "code",
   "execution_count": null,
   "metadata": {},
   "outputs": [],
   "source": [
    "\n",
    "\n",
    "dens = skyfast(1000, #maximum distance at which we expect to have a distance sample\n",
    "                std = 5, \n",
    "                entropy = True,  #If True, an intermediate skymap is created when the convergence is reached\n",
    "                n_entropy_MC_draws=1e3)\n",
    "\n"
   ]
  },
  {
   "attachments": {},
   "cell_type": "markdown",
   "metadata": {},
   "source": [
    "To reconstruct the 3D probability volume, we use the `intermediate_skymap` method, which takes the MCMC samples one by one. The sample returned by a MCMC are in general in celestial coordinate, but at the moment skyfast accept only cartesian coordinates, so we must convert the samples before using:"
   ]
  },
  {
   "cell_type": "code",
   "execution_count": null,
   "metadata": {},
   "outputs": [],
   "source": [
    "import numpy as np\n",
    "np.random.shuffle(samp)\n",
    "cart_samp = celestial_to_cartesian(samples)\n"
   ]
  },
  {
   "attachments": {},
   "cell_type": "markdown",
   "metadata": {},
   "source": [
    "Since the samples that we use are likelihood_ordered, we shuffle them:"
   ]
  },
  {
   "cell_type": "code",
   "execution_count": null,
   "metadata": {},
   "outputs": [],
   "source": [
    "\n"
   ]
  },
  {
   "attachments": {},
   "cell_type": "markdown",
   "metadata": {},
   "source": [
    "Now we are read to pass the samples to skyfast: remind that the must passed one by one!\n",
    "\n",
    "As the samples are passed to intermediate_skymap, they are added to the DPGMM mixture.\n",
    "\n",
    "If `entropy=True` then the information entropy is computed, and if the convergence is reached then an intermediate skymap is released.\n",
    "\n"
   ]
  },
  {
   "cell_type": "code",
   "execution_count": null,
   "metadata": {},
   "outputs": [],
   "source": [
    "for i in tqdm(range(len(cart_samp))):\n",
    "        dens.intermediate_skymap(cart_samp[i])"
   ]
  },
  {
   "cell_type": "code",
   "execution_count": null,
   "metadata": {},
   "outputs": [],
   "source": [
    "dens.plot_samples(samples)\n",
    "dens.make_entropy_plot()\n",
    "\n",
    "dens.make_skymap(final_map = True)\n",
    "#dens.make_volume_map(final_map = True)"
   ]
  },
  {
   "cell_type": "code",
   "execution_count": null,
   "metadata": {},
   "outputs": [],
   "source": []
  }
 ],
 "metadata": {
  "kernelspec": {
   "display_name": "Python 3",
   "language": "python",
   "name": "python3"
  },
  "language_info": {
   "codemirror_mode": {
    "name": "ipython",
    "version": 3
   },
   "file_extension": ".py",
   "mimetype": "text/x-python",
   "name": "python",
   "nbconvert_exporter": "python",
   "pygments_lexer": "ipython3",
   "version": "3.9.18"
  },
  "orig_nbformat": 4
 },
 "nbformat": 4,
 "nbformat_minor": 2
}
